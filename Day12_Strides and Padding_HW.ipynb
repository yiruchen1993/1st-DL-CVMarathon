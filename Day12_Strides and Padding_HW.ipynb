{
 "cells": [
  {
   "cell_type": "markdown",
   "metadata": {
    "colab_type": "text",
    "id": "0BBfdBwkyTiQ"
   },
   "source": [
    "## 『作業內容』\n",
    "####   依照指示，透過調整Padding、Strides參數控制輸出Feature map大小\n"
   ]
  },
  {
   "cell_type": "markdown",
   "metadata": {
    "colab_type": "text",
    "id": "7CtbcEb4yTiT"
   },
   "source": [
    "## 『目標』\n",
    "####   了解輸出feature map尺寸變化原理"
   ]
  },
  {
   "cell_type": "code",
   "execution_count": 1,
   "metadata": {
    "colab": {},
    "colab_type": "code",
    "id": "2fhi3otQyTiU",
    "tags": []
   },
   "outputs": [
    {
     "output_type": "stream",
     "name": "stderr",
     "text": "Using TensorFlow backend.\n_________________________________________________________________\nLayer (type)                 Output Shape              Param #   \n=================================================================\ninput_1 (InputLayer)         (None, 13, 13, 1)         0         \n_________________________________________________________________\nconv2d_1 (Conv2D)            (None, 13, 13, 32)        1184      \n=================================================================\nTotal params: 1,184\nTrainable params: 1,184\nNon-trainable params: 0\n_________________________________________________________________\n_________________________________________________________________\nLayer (type)                 Output Shape              Param #   \n=================================================================\ninput_2 (InputLayer)         (None, 13, 13, 1)         0         \n_________________________________________________________________\nconv2d_2 (Conv2D)            (None, 7, 7, 32)          1184      \n=================================================================\nTotal params: 1,184\nTrainable params: 1,184\nNon-trainable params: 0\n_________________________________________________________________\n_________________________________________________________________\nLayer (type)                 Output Shape              Param #   \n=================================================================\ninput_3 (InputLayer)         (None, 13, 13, 1)         0         \n_________________________________________________________________\nconv2d_3 (Conv2D)            (None, 8, 8, 32)          1184      \n=================================================================\nTotal params: 1,184\nTrainable params: 1,184\nNon-trainable params: 0\n_________________________________________________________________\n_________________________________________________________________\nLayer (type)                 Output Shape              Param #   \n=================================================================\ninput_4 (InputLayer)         (None, 13, 13, 1)         0         \n_________________________________________________________________\nconv2d_4 (Conv2D)            (None, 4, 4, 32)          1184      \n=================================================================\nTotal params: 1,184\nTrainable params: 1,184\nNon-trainable params: 0\n_________________________________________________________________\n"
    }
   ],
   "source": [
    "from keras.models import Sequential\n",
    "from keras.layers import Convolution2D\n",
    "from keras.layers import Input, Dense\n",
    "from keras.models import Model\n",
    "import numpy as np\n",
    "\n",
    "##kernel size=(6,6)\n",
    "##kernel數量：32\n",
    "\n",
    "## Same padding、strides=(1,1)\n",
    "classifier = Sequential()\n",
    "inputs = Input(shape=(13, 13, 1))\n",
    "x = Convolution2D(32, (6, 6), strides=(1, 1), padding='same')(inputs)\n",
    "model = Model(inputs=inputs, outputs=x)\n",
    "model.summary()\n",
    "\n",
    "## Same padding、strides=(2,2)\n",
    "classifier = Sequential()\n",
    "inputs = Input(shape=(13, 13, 1))\n",
    "x=Convolution2D(32, (6, 6), strides=(2, 2), padding='same')(inputs)\n",
    "model = Model(inputs=inputs, outputs=x)\n",
    "model.summary()\n",
    "\n",
    "## Valid padding、strides=(1,1)\n",
    "classifier = Sequential()\n",
    "inputs = Input(shape=(13, 13, 1))\n",
    "x=Convolution2D(32, (6, 6), strides=(1, 1), padding='valid')(inputs)\n",
    "model = Model(inputs=inputs, outputs=x)\n",
    "model.summary()\n",
    "\n",
    "## Valid padding、strides=(2,2)\n",
    "classifier = Sequential()\n",
    "inputs = Input(shape=(13, 13, 1))\n",
    "x=Convolution2D(32, (6, 6), strides=(2, 2), padding='valid')(inputs)\n",
    "model = Model(inputs=inputs, outputs=x)\n",
    "model.summary()\n"
   ]
  },
  {
   "cell_type": "code",
   "execution_count": 2,
   "metadata": {},
   "outputs": [],
   "source": [
    "# feature_map_size = (input + 2*padding - kernel size)/stride + 1\n",
    "def feature_map_size(input, padding, kernel_size, stride):\n",
    "    return int((input + 2*padding - kernel_size)/stride + 1)"
   ]
  },
  {
   "cell_type": "code",
   "execution_count": 8,
   "metadata": {
    "tags": []
   },
   "outputs": [
    {
     "output_type": "stream",
     "name": "stdout",
     "text": "case 1 feature map h size: 34\ncase 2 feature map h size: 11\n"
    }
   ],
   "source": [
    "# padding_same_h = ceiling(in_height/strides[0])\n",
    "# padding_same_w = ceiling(in_width/strides[1])\n",
    "\n",
    "print(\"case 1 feature map h size: {}\".format(feature_map_size(13, 13/1, 6, 1)))\n",
    "print(\"case 2 feature map h size: {}\".format(feature_map_size(13, np.ceil(13/2), 6, 2)))"
   ]
  },
  {
   "cell_type": "code",
   "execution_count": 9,
   "metadata": {
    "tags": []
   },
   "outputs": [
    {
     "output_type": "stream",
     "name": "stdout",
     "text": "case 3 feature map h size: 24\ncase 4 feature map h size: 8\n"
    }
   ],
   "source": [
    "# padding_valid_h = ceiling((in_height - filter_height + 1)/strides[0])\n",
    "# padding_valid_w = ceiling((in_width - filter_width + 1)/strides[1])\n",
    "\n",
    "pad = np.ceil((13 - 6 + 1)/1)\n",
    "print(\"case 3 feature map h size: {}\".format(feature_map_size(13, pad, 6, 1)))\n",
    "pad = np.ceil((13 - 6 + 1)/2)\n",
    "print(\"case 4 feature map h size: {}\".format(feature_map_size(13, pad, 6, 2)))"
   ]
  },
  {
   "cell_type": "code",
   "execution_count": null,
   "metadata": {},
   "outputs": [],
   "source": []
  }
 ],
 "metadata": {
  "colab": {
   "name": "Strides and Padding.ipynb",
   "provenance": []
  },
  "kernelspec": {
   "display_name": "Python 3",
   "language": "python",
   "name": "python3"
  },
  "language_info": {
   "codemirror_mode": {
    "name": "ipython",
    "version": 3
   },
   "file_extension": ".py",
   "mimetype": "text/x-python",
   "name": "python",
   "nbconvert_exporter": "python",
   "pygments_lexer": "ipython3",
   "version": "3.6.7"
  }
 },
 "nbformat": 4,
 "nbformat_minor": 1
}