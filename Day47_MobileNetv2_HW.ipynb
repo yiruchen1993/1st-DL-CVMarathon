{
  "nbformat": 4,
  "nbformat_minor": 0,
  "metadata": {
    "kernelspec": {
      "display_name": "Python 3",
      "language": "python",
      "name": "python3"
    },
    "language_info": {
      "codemirror_mode": {
        "name": "ipython",
        "version": 3
      },
      "file_extension": ".py",
      "mimetype": "text/x-python",
      "name": "python",
      "nbconvert_exporter": "python",
      "pygments_lexer": "ipython3",
      "version": "3.5.4"
    },
    "colab": {
      "name": "Day47_MobileNetv2_HW.ipynb",
      "provenance": [],
      "include_colab_link": true
    },
    "accelerator": "GPU"
  },
  "cells": [
    {
      "cell_type": "markdown",
      "metadata": {
        "id": "view-in-github",
        "colab_type": "text"
      },
      "source": [
        "<a href=\"https://colab.research.google.com/github/yiruchen1993/1st-DL-CVMarathon/blob/feature%2Fdaily_learning/Day47_MobileNetv2_HW.ipynb\" target=\"_parent\"><img src=\"https://colab.research.google.com/assets/colab-badge.svg\" alt=\"Open In Colab\"/></a>"
      ]
    },
    {
      "cell_type": "markdown",
      "metadata": {
        "id": "1H9XsR8ikhwu"
      },
      "source": [
        "# 作業"
      ]
    },
    {
      "cell_type": "markdown",
      "metadata": {
        "id": "_629qUWXkhwu"
      },
      "source": [
        "### 嘗試用 keras 的 DepthwiseConv2D 等 layers 實做 Inverted Residual Block.\n",
        "   - depthwise's filter shape 爲 (3,3), padding = same\n",
        "   - 不需要給 alpha, depth multiplier 參數\n",
        "   - expansion 因子爲 6"
      ]
    },
    {
      "cell_type": "markdown",
      "metadata": {
        "id": "S6Dafhgqkhwv"
      },
      "source": [
        "##### 載入套件"
      ]
    },
    {
      "cell_type": "code",
      "metadata": {
        "id": "UW-7H5oVkhwv"
      },
      "source": [
        "from keras.models import Input, Model\n",
        "from keras.layers import DepthwiseConv2D, Conv2D, BatchNormalization, ReLU, Add, Activation"
      ],
      "execution_count": 6,
      "outputs": []
    },
    {
      "cell_type": "markdown",
      "metadata": {
        "id": "RLmj3Bidkhwy"
      },
      "source": [
        "##### 定義 Separable Convolution 函數 (請在此實做)"
      ]
    },
    {
      "cell_type": "code",
      "metadata": {
        "id": "8j_50n1vkhwz"
      },
      "source": [
        "def InvertedRes(input, expansion):\n",
        "    '''\n",
        "    Args:\n",
        "        input: input tensor\n",
        "        expansion: expand filters size\n",
        "    Output:\n",
        "        output: output tensor\n",
        "    '''\n",
        "    \n",
        "    x = Conv2D(expansion * 3, (1,1))(input)\n",
        "    x = Activation(\"relu\")(x)\n",
        "\n",
        "    # Depthwise Convolution\n",
        "    x = DepthwiseConv2D((3,3), padding='same')(x)\n",
        "    x = BatchNormalization()(x)\n",
        "    x = Activation(\"relu\")(x)\n",
        "    \n",
        "    # Pointwise Convolution\n",
        "    x = Conv2D(3, (1,1))(x)\n",
        "    x = BatchNormalization()(x)\n",
        "    x = Activation(\"linear\")(x)\n",
        "\n",
        "    x = Add()([x, input])\n",
        "    \n",
        "    return x\n"
      ],
      "execution_count": 14,
      "outputs": []
    },
    {
      "cell_type": "markdown",
      "metadata": {
        "id": "MpyGDZQukhw1"
      },
      "source": [
        "##### 建構模型"
      ]
    },
    {
      "cell_type": "code",
      "metadata": {
        "id": "kbnKPIyQkhw2",
        "outputId": "0a1936c2-cc98-4b91-9a50-b99ed8a6ef58",
        "colab": {
          "base_uri": "https://localhost:8080/",
          "height": 510
        }
      },
      "source": [
        "input = Input((64, 64, 3))\n",
        "output = InvertedRes(input, 6)\n",
        "model = Model(inputs=input, outputs=output)\n",
        "model.summary()"
      ],
      "execution_count": 15,
      "outputs": [
        {
          "output_type": "stream",
          "text": [
            "Model: \"functional_1\"\n",
            "__________________________________________________________________________________________________\n",
            "Layer (type)                    Output Shape         Param #     Connected to                     \n",
            "==================================================================================================\n",
            "input_6 (InputLayer)            [(None, 64, 64, 3)]  0                                            \n",
            "__________________________________________________________________________________________________\n",
            "conv2d_7 (Conv2D)               (None, 64, 64, 18)   72          input_6[0][0]                    \n",
            "__________________________________________________________________________________________________\n",
            "activation_9 (Activation)       (None, 64, 64, 18)   0           conv2d_7[0][0]                   \n",
            "__________________________________________________________________________________________________\n",
            "depthwise_conv2d_3 (DepthwiseCo (None, 64, 64, 18)   180         activation_9[0][0]               \n",
            "__________________________________________________________________________________________________\n",
            "batch_normalization_6 (BatchNor (None, 64, 64, 18)   72          depthwise_conv2d_3[0][0]         \n",
            "__________________________________________________________________________________________________\n",
            "activation_10 (Activation)      (None, 64, 64, 18)   0           batch_normalization_6[0][0]      \n",
            "__________________________________________________________________________________________________\n",
            "conv2d_8 (Conv2D)               (None, 64, 64, 3)    57          activation_10[0][0]              \n",
            "__________________________________________________________________________________________________\n",
            "batch_normalization_7 (BatchNor (None, 64, 64, 3)    12          conv2d_8[0][0]                   \n",
            "__________________________________________________________________________________________________\n",
            "activation_11 (Activation)      (None, 64, 64, 3)    0           batch_normalization_7[0][0]      \n",
            "__________________________________________________________________________________________________\n",
            "add_1 (Add)                     (None, 64, 64, 3)    0           activation_11[0][0]              \n",
            "                                                                 input_6[0][0]                    \n",
            "==================================================================================================\n",
            "Total params: 393\n",
            "Trainable params: 351\n",
            "Non-trainable params: 42\n",
            "__________________________________________________________________________________________________\n"
          ],
          "name": "stdout"
        }
      ]
    },
    {
      "cell_type": "code",
      "metadata": {
        "id": "6Qk_tE-bkhw6"
      },
      "source": [
        ""
      ],
      "execution_count": null,
      "outputs": []
    }
  ]
}