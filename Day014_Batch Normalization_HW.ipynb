{
 "cells": [
  {
   "cell_type": "markdown",
   "metadata": {},
   "source": [
    "## 『本次練習內容』\n",
    "#### 搭建 Conv2D-BN-Activation 層\n"
   ]
  },
  {
   "cell_type": "markdown",
   "metadata": {},
   "source": [
    "## 『本次練習目的』\n",
    "  #### 了解如何搭建CNN基礎架構，Conv2D-BN-Activation"
   ]
  },
  {
   "cell_type": "code",
   "execution_count": 1,
   "metadata": {
    "tags": []
   },
   "outputs": [
    {
     "output_type": "stream",
     "name": "stderr",
     "text": "Using TensorFlow backend.\n"
    }
   ],
   "source": [
    "from keras.models import Sequential  #用來啟動 NN\n",
    "from keras.layers import Conv2D  # Convolution Operation\n",
    "from keras.layers import MaxPooling2D # Pooling\n",
    "from keras.layers import Flatten\n",
    "from keras.layers import Dense # Fully Connected Networks\n",
    "from keras.layers import BatchNormalization\n",
    "from keras.layers import Activation"
   ]
  },
  {
   "cell_type": "markdown",
   "metadata": {},
   "source": [
    "## 依照指示建立模型"
   ]
  },
  {
   "cell_type": "code",
   "execution_count": 3,
   "metadata": {},
   "outputs": [
    {
     "name": "stdout",
     "output_type": "stream",
     "text": [
      "WARNING:tensorflow:From /Users/chening/.local/lib/python3.6/site-packages/tensorflow/python/framework/op_def_library.py:263: colocate_with (from tensorflow.python.framework.ops) is deprecated and will be removed in a future version.\n",
      "Instructions for updating:\n",
      "Colocations handled automatically by placer.\n",
      "_________________________________________________________________\n",
      "Layer (type)                 Output Shape              Param #   \n",
      "=================================================================\n",
      "conv2d_1 (Conv2D)            (None, 32, 32, 32)        896       \n",
      "_________________________________________________________________\n",
      "batch_normalization_1 (Batch (None, 32, 32, 32)        128       \n",
      "_________________________________________________________________\n",
      "activation_1 (Activation)    (None, 32, 32, 32)        0         \n",
      "_________________________________________________________________\n",
      "conv2d_2 (Conv2D)            (None, 32, 32, 32)        9248      \n",
      "_________________________________________________________________\n",
      "batch_normalization_2 (Batch (None, 32, 32, 32)        128       \n",
      "_________________________________________________________________\n",
      "activation_2 (Activation)    (None, 32, 32, 32)        0         \n",
      "=================================================================\n",
      "Total params: 10,400\n",
      "Trainable params: 10,272\n",
      "Non-trainable params: 128\n",
      "_________________________________________________________________\n"
     ]
    }
   ],
   "source": [
    "input_shape = (32, 32, 3)\n",
    "\n",
    "model = Sequential()\n",
    "\n",
    "##  Conv2D-BN-Activation('sigmoid') \n",
    "\n",
    "#BatchNormalization主要參數：\n",
    "#momentum: Momentum for the moving mean and the moving variance.\n",
    "#epsilon: Small float added to variance to avoid dividing by zero.\n",
    "\n",
    "model.add(Conv2D())\n",
    "model.add(BatchNormalization()) \n",
    "model.add(Activation('sigmoid'))\n",
    "\n",
    "\n",
    "##、 Conv2D-BN-Activation('relu')\n",
    "model.add()\n",
    "model.add(atchNormalization()) \n",
    "model.add(Activation('relu'))\n",
    "\n",
    "\n",
    "model.summary()"
   ]
  },
  {
   "cell_type": "code",
   "execution_count": 2,
   "metadata": {
    "tags": []
   },
   "outputs": [
    {
     "output_type": "stream",
     "name": "stdout",
     "text": "_________________________________________________________________\nLayer (type)                 Output Shape              Param #   \n=================================================================\nconv2d_1 (Conv2D)            (None, 32, 32, 32)        896       \n_________________________________________________________________\nbatch_normalization_1 (Batch (None, 32, 32, 32)        128       \n_________________________________________________________________\nactivation_1 (Activation)    (None, 32, 32, 32)        0         \n_________________________________________________________________\nconv2d_2 (Conv2D)            (None, 32, 32, 32)        9248      \n_________________________________________________________________\nbatch_normalization_2 (Batch (None, 32, 32, 32)        128       \n_________________________________________________________________\nactivation_2 (Activation)    (None, 32, 32, 32)        0         \n=================================================================\nTotal params: 10,400\nTrainable params: 10,272\nNon-trainable params: 128\n_________________________________________________________________\n"
    }
   ],
   "source": [
    "input_shape = (32, 32, 3)\n",
    "\n",
    "model = Sequential()\n",
    "\n",
    "##  Conv2D-BN-Activation('sigmoid') \n",
    "\n",
    "#BatchNormalization主要參數：\n",
    "#momentum: Momentum for the moving mean and the moving variance.\n",
    "#epsilon: Small float added to variance to avoid dividing by zero.\n",
    "\n",
    "model.add(Conv2D(32, kernel_size=(3, 3), padding='same', input_shape=input_shape))\n",
    "model.add(BatchNormalization(momentum=0.5, epsilon=0.001)) \n",
    "model.add(Activation('sigmoid'))\n",
    "\n",
    "\n",
    "##、 Conv2D-BN-Activation('relu')\n",
    "model.add(Conv2D(32, kernel_size=(3, 3), padding='same', input_shape=input_shape))\n",
    "model.add(BatchNormalization(momentum=0.5, epsilon=0.001)) \n",
    "model.add(Activation('relu'))\n",
    "\n",
    "\n",
    "model.summary()"
   ]
  }
 ],
 "metadata": {
  "kernelspec": {
   "display_name": "Python 3",
   "language": "python",
   "name": "python3"
  },
  "language_info": {
   "codemirror_mode": {
    "name": "ipython",
    "version": 3
   },
   "file_extension": ".py",
   "mimetype": "text/x-python",
   "name": "python",
   "nbconvert_exporter": "python",
   "pygments_lexer": "ipython3",
   "version": "3.6.7"
  }
 },
 "nbformat": 4,
 "nbformat_minor": 2
}