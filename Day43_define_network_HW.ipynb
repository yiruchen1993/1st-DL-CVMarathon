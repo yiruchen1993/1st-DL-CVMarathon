{
  "nbformat": 4,
  "nbformat_minor": 0,
  "metadata": {
    "kernelspec": {
      "display_name": "Python 3",
      "language": "python",
      "name": "python3"
    },
    "language_info": {
      "codemirror_mode": {
        "name": "ipython",
        "version": 3
      },
      "file_extension": ".py",
      "mimetype": "text/x-python",
      "name": "python",
      "nbconvert_exporter": "python",
      "pygments_lexer": "ipython3",
      "version": "3.6.4"
    },
    "colab": {
      "name": "Day43_define_network_HW.ipynb",
      "provenance": [],
      "include_colab_link": true
    },
    "accelerator": "GPU"
  },
  "cells": [
    {
      "cell_type": "markdown",
      "metadata": {
        "id": "view-in-github",
        "colab_type": "text"
      },
      "source": [
        "<a href=\"https://colab.research.google.com/github/yiruchen1993/1st-DL-CVMarathon/blob/feature%2Fdaily_learning/Day43_define_network_HW.ipynb\" target=\"_parent\"><img src=\"https://colab.research.google.com/assets/colab-badge.svg\" alt=\"Open In Colab\"/></a>"
      ]
    },
    {
      "cell_type": "markdown",
      "metadata": {
        "id": "sJrqGjCoxeaZ",
        "colab_type": "text"
      },
      "source": [
        "### 作業\n",
        "請嘗試使用 keras 來定義一個直接預測 15 個人臉關鍵點坐標的檢測網路，以及適合這個網路的 loss function"
      ]
    },
    {
      "cell_type": "markdown",
      "metadata": {
        "id": "BQJzN9RgxYJk",
        "colab_type": "text"
      },
      "source": [
        "### 範例\n",
        "接下來的程式碼會示範如何定義一個簡單的 CNN model"
      ]
    },
    {
      "cell_type": "code",
      "metadata": {
        "id": "uwwFp42Xx-yh",
        "colab_type": "code",
        "colab": {}
      },
      "source": [
        "import os\n",
        "# 如果要使用 kaggle API 下載資料的話，請用以下程式碼\n",
        "os.environ['KAGGLE_USERNAME'] = \"yiruchen1993\" # 請按照 Day42 簡報內容，獲取 kaggle api 需要用到的 username\n",
        "os.environ['KAGGLE_KEY'] = \"d156daca72dfc25bdf525af1a54b60a8\" # 請按照 Day42 簡報獲取 kaggle api 需要用到的 key"
      ],
      "execution_count": 1,
      "outputs": []
    },
    {
      "cell_type": "code",
      "metadata": {
        "id": "WIdYGYYfyBKM",
        "colab_type": "code",
        "colab": {
          "base_uri": "https://localhost:8080/",
          "height": 225
        },
        "outputId": "c7f06165-769f-45f3-b30b-3c1fa02871bb"
      },
      "source": [
        "!kaggle competitions download -c facial-keypoints-detection\n",
        "!unzip facial-keypoints-detection.zip\n",
        "!unzip test.zip\n",
        "!unzip training.zip"
      ],
      "execution_count": 2,
      "outputs": [
        {
          "output_type": "stream",
          "text": [
            "Warning: Looks like you're using an outdated API Version, please consider updating (server 1.5.6 / client 1.5.4)\n",
            "test.zip: Skipping, found more recently modified local copy (use --force to force download)\n",
            "training.zip: Skipping, found more recently modified local copy (use --force to force download)\n",
            "SampleSubmission.csv: Skipping, found more recently modified local copy (use --force to force download)\n",
            "IdLookupTable.csv: Skipping, found more recently modified local copy (use --force to force download)\n",
            "unzip:  cannot find or open facial-keypoints-detection.zip, facial-keypoints-detection.zip.zip or facial-keypoints-detection.zip.ZIP.\n",
            "Archive:  test.zip\n",
            "replace test.csv? [y]es, [n]o, [A]ll, [N]one, [r]ename: A\n",
            "  inflating: test.csv                \n",
            "Archive:  training.zip\n",
            "replace training.csv? [y]es, [n]o, [A]ll, [N]one, [r]ename: y\n",
            "  inflating: training.csv            \n"
          ],
          "name": "stdout"
        }
      ]
    },
    {
      "cell_type": "code",
      "metadata": {
        "id": "DKuUmcuYxYJl",
        "colab_type": "code",
        "colab": {}
      },
      "source": [
        "import numpy as np\n",
        "import pandas as pd\n",
        "import matplotlib.pyplot as plt\n",
        "%matplotlib inline"
      ],
      "execution_count": 3,
      "outputs": []
    },
    {
      "cell_type": "code",
      "metadata": {
        "id": "ntTL5TUcxYJp",
        "colab_type": "code",
        "colab": {}
      },
      "source": [
        "# 使用 colab 環境的同學請執行以下程式碼\n",
        "# %tensorflow_version 1.x # 確保 colob 中使用的 tensorflow 是 1.x 版本而不是 tensorflow 2\n",
        "# import tensorflow as tf\n",
        "# print(tf.__version__)\n",
        "\n",
        "# import os\n",
        "# from google.colab import drive \n",
        "# drive.mount('/content/gdrive') # 將 google drive 掛載在 colob，\n",
        "# %cd 'gdrive/My Drive'\n",
        "# os.system(\"mkdir cupoy_cv_part4\") # 可以自己改路徑\n",
        "# %cd cupoy_cv_part4 # 可以自己改路徑"
      ],
      "execution_count": 4,
      "outputs": []
    },
    {
      "cell_type": "code",
      "metadata": {
        "id": "QZmUA7IlxYJt",
        "colab_type": "code",
        "colab": {}
      },
      "source": [
        "# 讀取資料集以及做前處理的函數\n",
        "def load_data(dirname):\n",
        "    # 讀取 csv 文件\n",
        "    data = pd.read_csv(dirname)\n",
        "    # 過濾有缺失值的 row\n",
        "    data = data.dropna()\n",
        "\n",
        "    # 將圖片像素值讀取為 numpy array 的形態\n",
        "    data['Image'] = data['Image'].apply(lambda img: np.fromstring(img, sep=' ')).values \n",
        "\n",
        "    # 單獨把圖像 array 抽取出來\n",
        "    imgs = np.vstack(data['Image'].values)/255\n",
        "    # reshape 為 96 x 96\n",
        "    imgs = imgs.reshape(data.shape[0], 96, 96)\n",
        "    # 轉換為 float\n",
        "    imgs = imgs.astype(np.float32)\n",
        "    \n",
        "    # 提取坐標的部分\n",
        "    points = data[data.columns[:-1]].values\n",
        "\n",
        "    # 轉換為 float\n",
        "    points = points.astype(np.float32)\n",
        "\n",
        "    # normalize 坐標值到 [-0.5, 0.5]\n",
        "    points = points/96 - 0.5\n",
        "    \n",
        "    return imgs, points"
      ],
      "execution_count": 5,
      "outputs": []
    },
    {
      "cell_type": "code",
      "metadata": {
        "id": "znj_DZicxYJx",
        "colab_type": "code",
        "colab": {
          "base_uri": "https://localhost:8080/",
          "height": 52
        },
        "outputId": "e46799b0-7dcc-42b6-e21b-9a83fb3587b9"
      },
      "source": [
        "# 讀取資料\n",
        "imgs_train, points_train = load_data(dirname = 'training.csv')\n",
        "print(\"圖像資料:\", imgs_train.shape, \"\\n關鍵點資料:\", points_train.shape)"
      ],
      "execution_count": 6,
      "outputs": [
        {
          "output_type": "stream",
          "text": [
            "圖像資料: (2140, 96, 96) \n",
            "關鍵點資料: (2140, 30)\n"
          ],
          "name": "stdout"
        }
      ]
    },
    {
      "cell_type": "markdown",
      "metadata": {
        "id": "BVaOzG-pxYJ1",
        "colab_type": "text"
      },
      "source": [
        "### 作業\n",
        "請嘗試使用 keras 來定義一個直接預測 15 個人臉關鍵點坐標的檢測網路，以及適合這個網路的 loss function\n",
        "\n",
        "\n",
        "Hint: 參考前面的電腦視覺深度學習基礎"
      ]
    },
    {
      "cell_type": "code",
      "metadata": {
        "id": "yUwUcYrCxYJ1",
        "colab_type": "code",
        "colab": {}
      },
      "source": [
        "from keras.models import Sequential\n",
        "from keras.layers import Conv2D, MaxPooling2D, Flatten, Dense, Dropout, BatchNormalization\n",
        "from keras import optimizers"
      ],
      "execution_count": 7,
      "outputs": []
    },
    {
      "cell_type": "code",
      "metadata": {
        "id": "p5EKOfu7xYJ5",
        "colab_type": "code",
        "colab": {}
      },
      "source": [
        "# 定義人臉關鍵點檢測網路\n",
        "model = Sequential()\n",
        "\n",
        "# 定義神經網路的輸入, hidden layer 以及輸出\n",
        "input_shape = (96, 96, 1)\n",
        "\n",
        "model.add(Conv2D(32, kernel_size=(3, 3), padding='same', input_shape=input_shape))\n",
        "model.add(BatchNormalization(momentum=0.5, epsilon=0.001))\n",
        "\n",
        "model.add(Conv2D(32, kernel_size=(3, 3), padding='same'))\n",
        "model.add(MaxPooling2D(pool_size=(2,2)))\n",
        "\n",
        "model.add(Flatten())\n",
        "model.add(Dense(30))\n",
        "\n",
        "\n",
        "# 配置 loss funtion 和 optimizer\n",
        "opt = optimizers.Adam(learning_rate=0.01)\n",
        "model.compile(loss='mean_squared_error', optimizer=opt)"
      ],
      "execution_count": 10,
      "outputs": []
    },
    {
      "cell_type": "code",
      "metadata": {
        "id": "xsq-amclxYJ8",
        "colab_type": "code",
        "colab": {
          "base_uri": "https://localhost:8080/",
          "height": 364
        },
        "outputId": "5cbe5bd5-8ba0-4b3b-e4be-41e9ccffb497"
      },
      "source": [
        "model.summary()"
      ],
      "execution_count": 11,
      "outputs": [
        {
          "output_type": "stream",
          "text": [
            "Model: \"sequential_1\"\n",
            "_________________________________________________________________\n",
            "Layer (type)                 Output Shape              Param #   \n",
            "=================================================================\n",
            "conv2d_2 (Conv2D)            (None, 96, 96, 32)        320       \n",
            "_________________________________________________________________\n",
            "batch_normalization_1 (Batch (None, 96, 96, 32)        128       \n",
            "_________________________________________________________________\n",
            "conv2d_3 (Conv2D)            (None, 96, 96, 32)        9248      \n",
            "_________________________________________________________________\n",
            "max_pooling2d_1 (MaxPooling2 (None, 48, 48, 32)        0         \n",
            "_________________________________________________________________\n",
            "flatten_1 (Flatten)          (None, 73728)             0         \n",
            "_________________________________________________________________\n",
            "dense_1 (Dense)              (None, 30)                2211870   \n",
            "=================================================================\n",
            "Total params: 2,221,566\n",
            "Trainable params: 2,221,502\n",
            "Non-trainable params: 64\n",
            "_________________________________________________________________\n"
          ],
          "name": "stdout"
        }
      ]
    }
  ]
}